{
 "cells": [
  {
   "cell_type": "code",
   "execution_count": 6,
   "id": "2a961e72",
   "metadata": {},
   "outputs": [
    {
     "name": "stdout",
     "output_type": "stream",
     "text": [
      "CONNACK received with code Success.\n",
      "Subscribed: 1 [<paho.mqtt.reasoncodes.ReasonCodes object at 0x7f999c2f6b00>]\n",
      "encyclopedia/temperature 1 hot\n",
      "mid: 2\n",
      "encyclopedia/temperature 1 hot\n",
      "encyclopedia/temperature 0 0\n",
      "encyclopedia/temperature 0 1\n",
      "encyclopedia/temperature 0 2\n",
      "encyclopedia/temperature 0 3\n",
      "encyclopedia/temperature 0 4\n",
      "encyclopedia/temperature 0 5\n",
      "encyclopedia/temperature 0 6\n",
      "encyclopedia/temperature 0 7\n",
      "encyclopedia/temperature 0 8\n",
      "encyclopedia/temperature 0 9\n"
     ]
    },
    {
     "ename": "KeyboardInterrupt",
     "evalue": "",
     "output_type": "error",
     "traceback": [
      "\u001b[0;31m---------------------------------------------------------------------------\u001b[0m",
      "\u001b[0;31mKeyboardInterrupt\u001b[0m                         Traceback (most recent call last)",
      "\u001b[0;32m/tmp/ipykernel_4459/134433928.py\u001b[0m in \u001b[0;36m<module>\u001b[0;34m\u001b[0m\n\u001b[1;32m     45\u001b[0m \u001b[0;31m# loop_forever for simplicity, here you need to stop the loop manually\u001b[0m\u001b[0;34m\u001b[0m\u001b[0;34m\u001b[0m\u001b[0m\n\u001b[1;32m     46\u001b[0m \u001b[0;31m# you can also use loop_start and loop_stop\u001b[0m\u001b[0;34m\u001b[0m\u001b[0;34m\u001b[0m\u001b[0m\n\u001b[0;32m---> 47\u001b[0;31m \u001b[0mclient\u001b[0m\u001b[0;34m.\u001b[0m\u001b[0mloop_forever\u001b[0m\u001b[0;34m(\u001b[0m\u001b[0;34m)\u001b[0m\u001b[0;34m\u001b[0m\u001b[0;34m\u001b[0m\u001b[0m\n\u001b[0m",
      "\u001b[0;32m~/.local/lib/python3.10/site-packages/paho/mqtt/client.py\u001b[0m in \u001b[0;36mloop_forever\u001b[0;34m(self, timeout, max_packets, retry_first_connection)\u001b[0m\n\u001b[1;32m   1754\u001b[0m             \u001b[0mrc\u001b[0m \u001b[0;34m=\u001b[0m \u001b[0mMQTT_ERR_SUCCESS\u001b[0m\u001b[0;34m\u001b[0m\u001b[0;34m\u001b[0m\u001b[0m\n\u001b[1;32m   1755\u001b[0m             \u001b[0;32mwhile\u001b[0m \u001b[0mrc\u001b[0m \u001b[0;34m==\u001b[0m \u001b[0mMQTT_ERR_SUCCESS\u001b[0m\u001b[0;34m:\u001b[0m\u001b[0;34m\u001b[0m\u001b[0;34m\u001b[0m\u001b[0m\n\u001b[0;32m-> 1756\u001b[0;31m                 \u001b[0mrc\u001b[0m \u001b[0;34m=\u001b[0m \u001b[0mself\u001b[0m\u001b[0;34m.\u001b[0m\u001b[0m_loop\u001b[0m\u001b[0;34m(\u001b[0m\u001b[0mtimeout\u001b[0m\u001b[0;34m)\u001b[0m\u001b[0;34m\u001b[0m\u001b[0;34m\u001b[0m\u001b[0m\n\u001b[0m\u001b[1;32m   1757\u001b[0m                 \u001b[0;31m# We don't need to worry about locking here, because we've\u001b[0m\u001b[0;34m\u001b[0m\u001b[0;34m\u001b[0m\u001b[0m\n\u001b[1;32m   1758\u001b[0m                 \u001b[0;31m# either called loop_forever() when in single threaded mode, or\u001b[0m\u001b[0;34m\u001b[0m\u001b[0;34m\u001b[0m\u001b[0m\n",
      "\u001b[0;32m~/.local/lib/python3.10/site-packages/paho/mqtt/client.py\u001b[0m in \u001b[0;36m_loop\u001b[0;34m(self, timeout)\u001b[0m\n\u001b[1;32m   1148\u001b[0m \u001b[0;34m\u001b[0m\u001b[0m\n\u001b[1;32m   1149\u001b[0m         \u001b[0;32mtry\u001b[0m\u001b[0;34m:\u001b[0m\u001b[0;34m\u001b[0m\u001b[0;34m\u001b[0m\u001b[0m\n\u001b[0;32m-> 1150\u001b[0;31m             \u001b[0msocklist\u001b[0m \u001b[0;34m=\u001b[0m \u001b[0mselect\u001b[0m\u001b[0;34m.\u001b[0m\u001b[0mselect\u001b[0m\u001b[0;34m(\u001b[0m\u001b[0mrlist\u001b[0m\u001b[0;34m,\u001b[0m \u001b[0mwlist\u001b[0m\u001b[0;34m,\u001b[0m \u001b[0;34m[\u001b[0m\u001b[0;34m]\u001b[0m\u001b[0;34m,\u001b[0m \u001b[0mtimeout\u001b[0m\u001b[0;34m)\u001b[0m\u001b[0;34m\u001b[0m\u001b[0;34m\u001b[0m\u001b[0m\n\u001b[0m\u001b[1;32m   1151\u001b[0m         \u001b[0;32mexcept\u001b[0m \u001b[0mTypeError\u001b[0m\u001b[0;34m:\u001b[0m\u001b[0;34m\u001b[0m\u001b[0;34m\u001b[0m\u001b[0m\n\u001b[1;32m   1152\u001b[0m             \u001b[0;31m# Socket isn't correct type, in likelihood connection is lost\u001b[0m\u001b[0;34m\u001b[0m\u001b[0;34m\u001b[0m\u001b[0m\n",
      "\u001b[0;31mKeyboardInterrupt\u001b[0m: "
     ]
    }
   ],
   "source": [
    "import time\n",
    "import paho.mqtt.client as paho\n",
    "from paho import mqtt\n",
    "\n",
    "# setting callbacks for different events to see if it works, print the message etc.\n",
    "def on_connect(client, userdata, flags, rc, properties=None):\n",
    "    print(\"CONNACK received with code %s.\" % rc)\n",
    "\n",
    "# with this callback you can see if your publish was successful\n",
    "def on_publish(client, userdata, mid, properties=None):\n",
    "    print(\"mid: \" + str(mid))\n",
    "\n",
    "# print which topic was subscribed to\n",
    "def on_subscribe(client, userdata, mid, granted_qos, properties=None):\n",
    "    print(\"Subscribed: \" + str(mid) + \" \" + str(granted_qos))\n",
    "\n",
    "# print message, useful for checking if it was successful\n",
    "def on_message(client, userdata, msg):\n",
    "    print(msg.topic + \" \" + str(msg.payload.decode(\"utf-8\")))\n",
    "\n",
    "# using MQTT version 5 here, for 3.1.1: MQTTv311, 3.1: MQTTv31\n",
    "# userdata is user defined data of any type, updated by user_data_set()\n",
    "# client_id is the given name of the client\n",
    "client = paho.Client(client_id=\"\", userdata=None, protocol=paho.MQTTv5)\n",
    "client.on_connect = on_connect\n",
    "\n",
    "# enable TLS for secure connection\n",
    "client.tls_set(tls_version=mqtt.client.ssl.PROTOCOL_TLS)\n",
    "# set username and password\n",
    "client.username_pw_set(\"MQTTPoint\", \"asD12^zxc\")\n",
    "# connect to HiveMQ Cloud on port 8883 (default for MQTT)\n",
    "client.connect(\"40c5a4ec81ad401ba6e5748d52cc5a28.s2.eu.hivemq.cloud\", 8883)\n",
    "\n",
    "# setting callbacks, use separate functions like above for better visibility\n",
    "client.on_subscribe = on_subscribe\n",
    "client.on_message = on_message\n",
    "client.on_publish = on_publish\n",
    "\n",
    "# subscribe to all topics of encyclopedia by using the wildcard \"#\"\n",
    "client.subscribe(\"IoT/#\", qos=1)\n",
    "\n",
    "# loop_forever for simplicity, here you need to stop the loop manually\n",
    "# you can also use loop_start and loop_stop\n",
    "client.loop_forever()"
   ]
  },
  {
   "cell_type": "code",
   "execution_count": null,
   "id": "5f83dcee",
   "metadata": {},
   "outputs": [],
   "source": []
  }
 ],
 "metadata": {
  "kernelspec": {
   "display_name": "Python 3 (ipykernel)",
   "language": "python",
   "name": "python3"
  },
  "language_info": {
   "codemirror_mode": {
    "name": "ipython",
    "version": 3
   },
   "file_extension": ".py",
   "mimetype": "text/x-python",
   "name": "python",
   "nbconvert_exporter": "python",
   "pygments_lexer": "ipython3",
   "version": "3.7.4"
  }
 },
 "nbformat": 4,
 "nbformat_minor": 5
}
